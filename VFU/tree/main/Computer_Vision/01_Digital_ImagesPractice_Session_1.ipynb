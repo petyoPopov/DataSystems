{
  "nbformat": 4,
  "nbformat_minor": 0,
  "metadata": {
    "colab": {
      "name": "Practice_Session_1.ipynb",
      "provenance": [],
      "authorship_tag": "ABX9TyNssh2+fZQHGPGjU4aEsqbF",
      "include_colab_link": true
    },
    "kernelspec": {
      "name": "python3",
      "display_name": "Python 3"
    }
  },
  "cells": [
    {
      "cell_type": "markdown",
      "metadata": {
        "id": "view-in-github",
        "colab_type": "text"
      },
      "source": [
        "<a href=\"https://colab.research.google.com/github/petyoPopov/DataSystems/blob/master/VFU/tree/main/Computer_Vision/01_Digital_ImagesPractice_Session_1.ipynb\" target=\"_parent\"><img src=\"https://colab.research.google.com/assets/colab-badge.svg\" alt=\"Open In Colab\"/></a>"
      ]
    },
    {
      "cell_type": "markdown",
      "metadata": {
        "id": "RFip0PP0pT7S"
      },
      "source": [
        "#Computer Vision Class - Practice Session 1\n",
        "###done by Petyo Popov, winter 2020\n",
        "\n",
        "## Task\n",
        "*  Given an image find out its properties: Size, Color, Content\n",
        "\n",
        "*  Given an image Save in another image only red channel\n",
        "*  Given an image extract only certain range of grey level window and save them to a different image \n",
        "*  Given an image extract a region of interest (a subset) and save as another image. Describe what is the extracted region representing (optional)\n",
        "*  Given several images combine them into a larger image (montage)\n"
      ]
    },
    {
      "cell_type": "markdown",
      "metadata": {
        "id": "VTSShGe6qttf"
      },
      "source": [
        "## Initial setup\n",
        "I choose to do this task using Python and main libraries OpenCV2 and NumPy.\n",
        "First I will load libraries, provide link to gitHub repo and load data."
      ]
    },
    {
      "cell_type": "code",
      "metadata": {
        "id": "5da-OojZpOPJ"
      },
      "source": [
        "#load libraries\n",
        "import cv2\n",
        "import numpy as np\n",
        "from google.colab.patches import cv2_imshow\n",
        "import os\n",
        "import matplotlib.pyplot as plt"
      ],
      "execution_count": 1,
      "outputs": []
    },
    {
      "cell_type": "code",
      "metadata": {
        "colab": {
          "base_uri": "https://localhost:8080/"
        },
        "id": "QUjG2kMfrRS8",
        "outputId": "069900c2-64ac-4253-9bbc-10566e9c9ccd"
      },
      "source": [
        "#clone gitHib repo, to have access to data\n",
        "!pip install -q xlrd\n",
        "!git clone https://github.com/petyoPopov/VFU/tree/main/Computer_Vision/01_Digital_Images"
      ],
      "execution_count": 4,
      "outputs": [
        {
          "output_type": "stream",
          "text": [
            "Cloning into '01_Digital_Images'...\n",
            "fatal: repository 'https://github.com/petyoPopov/VFU/tree/main/Computer_Vision/01_Digital_Images/' not found\n"
          ],
          "name": "stdout"
        }
      ]
    },
    {
      "cell_type": "code",
      "metadata": {
        "id": "1OGnunxDrkBp"
      },
      "source": [
        ""
      ],
      "execution_count": null,
      "outputs": []
    }
  ]
}